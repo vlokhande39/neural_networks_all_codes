{
  "nbformat": 4,
  "nbformat_minor": 0,
  "metadata": {
    "colab": {
      "provenance": [],
      "collapsed_sections": [],
      "toc_visible": true
    },
    "kernelspec": {
      "name": "python3",
      "display_name": "Python 3"
    },
    "language_info": {
      "name": "python"
    }
  },
  "cells": [
    {
      "cell_type": "markdown",
      "source": [
        "feature scaling on neural networks input\n",
        "we are using social netowrk ads datasets."
      ],
      "metadata": {
        "id": "MXC9qWzrq-1f"
      }
    },
    {
      "cell_type": "code",
      "execution_count": 6,
      "metadata": {
        "id": "jsAFiPqWRSVe"
      },
      "outputs": [],
      "source": [
        "import pandas as pd\n",
        "df = pd.read_csv(\"/Social_Network_Ads.csv\")"
      ]
    },
    {
      "cell_type": "code",
      "source": [
        "df.head(5) #remove unwanted features like user_ID and Gender\n",
        "df = df.iloc[:,2:]"
      ],
      "metadata": {
        "id": "I_SVOd84qLxr"
      },
      "execution_count": 7,
      "outputs": []
    },
    {
      "cell_type": "code",
      "source": [
        "df.head()"
      ],
      "metadata": {
        "colab": {
          "base_uri": "https://localhost:8080/",
          "height": 206
        },
        "id": "er4XqBsjqL83",
        "outputId": "16962613-3e1d-4421-a9eb-a2af1c989641"
      },
      "execution_count": 8,
      "outputs": [
        {
          "output_type": "execute_result",
          "data": {
            "text/plain": [
              "   Age  EstimatedSalary  Purchased\n",
              "0   19            19000          0\n",
              "1   35            20000          0\n",
              "2   26            43000          0\n",
              "3   27            57000          0\n",
              "4   19            76000          0"
            ],
            "text/html": [
              "\n",
              "  <div id=\"df-68755edf-dc1e-4772-b0d7-42ba32050f42\">\n",
              "    <div class=\"colab-df-container\">\n",
              "      <div>\n",
              "<style scoped>\n",
              "    .dataframe tbody tr th:only-of-type {\n",
              "        vertical-align: middle;\n",
              "    }\n",
              "\n",
              "    .dataframe tbody tr th {\n",
              "        vertical-align: top;\n",
              "    }\n",
              "\n",
              "    .dataframe thead th {\n",
              "        text-align: right;\n",
              "    }\n",
              "</style>\n",
              "<table border=\"1\" class=\"dataframe\">\n",
              "  <thead>\n",
              "    <tr style=\"text-align: right;\">\n",
              "      <th></th>\n",
              "      <th>Age</th>\n",
              "      <th>EstimatedSalary</th>\n",
              "      <th>Purchased</th>\n",
              "    </tr>\n",
              "  </thead>\n",
              "  <tbody>\n",
              "    <tr>\n",
              "      <th>0</th>\n",
              "      <td>19</td>\n",
              "      <td>19000</td>\n",
              "      <td>0</td>\n",
              "    </tr>\n",
              "    <tr>\n",
              "      <th>1</th>\n",
              "      <td>35</td>\n",
              "      <td>20000</td>\n",
              "      <td>0</td>\n",
              "    </tr>\n",
              "    <tr>\n",
              "      <th>2</th>\n",
              "      <td>26</td>\n",
              "      <td>43000</td>\n",
              "      <td>0</td>\n",
              "    </tr>\n",
              "    <tr>\n",
              "      <th>3</th>\n",
              "      <td>27</td>\n",
              "      <td>57000</td>\n",
              "      <td>0</td>\n",
              "    </tr>\n",
              "    <tr>\n",
              "      <th>4</th>\n",
              "      <td>19</td>\n",
              "      <td>76000</td>\n",
              "      <td>0</td>\n",
              "    </tr>\n",
              "  </tbody>\n",
              "</table>\n",
              "</div>\n",
              "      <button class=\"colab-df-convert\" onclick=\"convertToInteractive('df-68755edf-dc1e-4772-b0d7-42ba32050f42')\"\n",
              "              title=\"Convert this dataframe to an interactive table.\"\n",
              "              style=\"display:none;\">\n",
              "        \n",
              "  <svg xmlns=\"http://www.w3.org/2000/svg\" height=\"24px\"viewBox=\"0 0 24 24\"\n",
              "       width=\"24px\">\n",
              "    <path d=\"M0 0h24v24H0V0z\" fill=\"none\"/>\n",
              "    <path d=\"M18.56 5.44l.94 2.06.94-2.06 2.06-.94-2.06-.94-.94-2.06-.94 2.06-2.06.94zm-11 1L8.5 8.5l.94-2.06 2.06-.94-2.06-.94L8.5 2.5l-.94 2.06-2.06.94zm10 10l.94 2.06.94-2.06 2.06-.94-2.06-.94-.94-2.06-.94 2.06-2.06.94z\"/><path d=\"M17.41 7.96l-1.37-1.37c-.4-.4-.92-.59-1.43-.59-.52 0-1.04.2-1.43.59L10.3 9.45l-7.72 7.72c-.78.78-.78 2.05 0 2.83L4 21.41c.39.39.9.59 1.41.59.51 0 1.02-.2 1.41-.59l7.78-7.78 2.81-2.81c.8-.78.8-2.07 0-2.86zM5.41 20L4 18.59l7.72-7.72 1.47 1.35L5.41 20z\"/>\n",
              "  </svg>\n",
              "      </button>\n",
              "      \n",
              "  <style>\n",
              "    .colab-df-container {\n",
              "      display:flex;\n",
              "      flex-wrap:wrap;\n",
              "      gap: 12px;\n",
              "    }\n",
              "\n",
              "    .colab-df-convert {\n",
              "      background-color: #E8F0FE;\n",
              "      border: none;\n",
              "      border-radius: 50%;\n",
              "      cursor: pointer;\n",
              "      display: none;\n",
              "      fill: #1967D2;\n",
              "      height: 32px;\n",
              "      padding: 0 0 0 0;\n",
              "      width: 32px;\n",
              "    }\n",
              "\n",
              "    .colab-df-convert:hover {\n",
              "      background-color: #E2EBFA;\n",
              "      box-shadow: 0px 1px 2px rgba(60, 64, 67, 0.3), 0px 1px 3px 1px rgba(60, 64, 67, 0.15);\n",
              "      fill: #174EA6;\n",
              "    }\n",
              "\n",
              "    [theme=dark] .colab-df-convert {\n",
              "      background-color: #3B4455;\n",
              "      fill: #D2E3FC;\n",
              "    }\n",
              "\n",
              "    [theme=dark] .colab-df-convert:hover {\n",
              "      background-color: #434B5C;\n",
              "      box-shadow: 0px 1px 3px 1px rgba(0, 0, 0, 0.15);\n",
              "      filter: drop-shadow(0px 1px 2px rgba(0, 0, 0, 0.3));\n",
              "      fill: #FFFFFF;\n",
              "    }\n",
              "  </style>\n",
              "\n",
              "      <script>\n",
              "        const buttonEl =\n",
              "          document.querySelector('#df-68755edf-dc1e-4772-b0d7-42ba32050f42 button.colab-df-convert');\n",
              "        buttonEl.style.display =\n",
              "          google.colab.kernel.accessAllowed ? 'block' : 'none';\n",
              "\n",
              "        async function convertToInteractive(key) {\n",
              "          const element = document.querySelector('#df-68755edf-dc1e-4772-b0d7-42ba32050f42');\n",
              "          const dataTable =\n",
              "            await google.colab.kernel.invokeFunction('convertToInteractive',\n",
              "                                                     [key], {});\n",
              "          if (!dataTable) return;\n",
              "\n",
              "          const docLinkHtml = 'Like what you see? Visit the ' +\n",
              "            '<a target=\"_blank\" href=https://colab.research.google.com/notebooks/data_table.ipynb>data table notebook</a>'\n",
              "            + ' to learn more about interactive tables.';\n",
              "          element.innerHTML = '';\n",
              "          dataTable['output_type'] = 'display_data';\n",
              "          await google.colab.output.renderOutput(dataTable, element);\n",
              "          const docLink = document.createElement('div');\n",
              "          docLink.innerHTML = docLinkHtml;\n",
              "          element.appendChild(docLink);\n",
              "        }\n",
              "      </script>\n",
              "    </div>\n",
              "  </div>\n",
              "  "
            ]
          },
          "metadata": {},
          "execution_count": 8
        }
      ]
    },
    {
      "cell_type": "code",
      "source": [
        "import seaborn as sns\n",
        "sns.scatterplot(df.iloc[:,0],df.iloc[:,1]) #ploting scatter plot for geting some understanding relation or age and salary"
      ],
      "metadata": {
        "colab": {
          "base_uri": "https://localhost:8080/",
          "height": 351
        },
        "id": "xzUU3wIsqMGI",
        "outputId": "f830de94-c869-4837-8b2e-c7f4f15ce35b"
      },
      "execution_count": 9,
      "outputs": [
        {
          "output_type": "stream",
          "name": "stderr",
          "text": [
            "/usr/local/lib/python3.7/dist-packages/seaborn/_decorators.py:43: FutureWarning: Pass the following variables as keyword args: x, y. From version 0.12, the only valid positional argument will be `data`, and passing other arguments without an explicit keyword will result in an error or misinterpretation.\n",
            "  FutureWarning\n"
          ]
        },
        {
          "output_type": "execute_result",
          "data": {
            "text/plain": [
              "<matplotlib.axes._subplots.AxesSubplot at 0x7fe9b1bc4150>"
            ]
          },
          "metadata": {},
          "execution_count": 9
        },
        {
          "output_type": "display_data",
          "data": {
            "text/plain": [
              "<Figure size 432x288 with 1 Axes>"
            ],
            "image/png": "[encoded data removed]"
          },
          "metadata": {
            "needs_background": "light"
          }
        }
      ]
    },
    {
      "cell_type": "code",
      "source": [
        "x = df.iloc[:,0:2]\n",
        "y = df.iloc[:,-1]\n",
        "x.head()\n",
        "y.head()"
      ],
      "metadata": {
        "colab": {
          "base_uri": "https://localhost:8080/"
        },
        "id": "3D4rWYFFsZ17",
        "outputId": "13c5e907-c674-4f36-98cf-bd2b9fa7649e"
      },
      "execution_count": 13,
      "outputs": [
        {
          "output_type": "execute_result",
          "data": {
            "text/plain": [
              "0    0\n",
              "1    0\n",
              "2    0\n",
              "3    0\n",
              "4    0\n",
              "Name: Purchased, dtype: int64"
            ]
          },
          "metadata": {},
          "execution_count": 13
        }
      ]
    },
    {
      "cell_type": "code",
      "source": [
        "from sklearn.model_selection import train_test_split #you can import function by different ways\n",
        "x_train, x_test, y_train, y_test = train_test_split(x,y, test_size=0.2,random_state=2)"
      ],
      "metadata": {
        "id": "ekHFwmtmqMOZ"
      },
      "execution_count": 14,
      "outputs": []
    },
    {
      "cell_type": "code",
      "source": [
        "#importing requirements library\n",
        "import tensorflow as tf\n",
        "from tensorflow import keras\n",
        "from keras.layers import Dense\n",
        "from keras import Sequential"
      ],
      "metadata": {
        "id": "6i9ZKYg8sZ8J"
      },
      "execution_count": 16,
      "outputs": []
    },
    {
      "cell_type": "code",
      "source": [
        "#creating a sequential mode\n",
        "model = Sequential()\n",
        "#adding hidden layers\n",
        "model.add(Dense(128,activation='relu',input_dim=2) ) #128 neuron of hidden layers\n",
        "model.add(Dense(1,activation=\"sigmoid\")) #here we are using sigmoid because its bindary classification prob\n",
        "#note: it is a basic model"
      ],
      "metadata": {
        "id": "6P7dtbh_saGJ"
      },
      "execution_count": 18,
      "outputs": []
    },
    {
      "cell_type": "code",
      "source": [
        "model.summary()"
      ],
      "metadata": {
        "colab": {
          "base_uri": "https://localhost:8080/"
        },
        "id": "-l54cXRVsaKZ",
        "outputId": "29eba751-94e7-4fb2-d0a6-f30fd7bc5846"
      },
      "execution_count": 19,
      "outputs": [
        {
          "output_type": "stream",
          "name": "stdout",
          "text": [
            "Model: \"sequential_1\"\n",
            "_________________________________________________________________\n",
            " Layer (type)                Output Shape              Param #   \n",
            "=================================================================\n",
            " dense_2 (Dense)             (None, 128)               384       \n",
            "                                                                 \n",
            " dense_3 (Dense)             (None, 1)                 129       \n",
            "                                                                 \n",
            "=================================================================\n",
            "Total params: 513\n",
            "Trainable params: 513\n",
            "Non-trainable params: 0\n",
            "_________________________________________________________________\n"
          ]
        }
      ]
    },
    {
      "cell_type": "code",
      "source": [
        "model.compile(optimizer='adam',loss='binary_crossentropy',metrics=['accuracy'])"
      ],
      "metadata": {
        "id": "LehbxFeQsaN7"
      },
      "execution_count": 20,
      "outputs": []
    },
    {
      "cell_type": "code",
      "source": [
        "history = model.fit(x_train, y_train, validation_data=(x_test, y_test ), epochs= 100)\n"
      ],
      "metadata": {
        "colab": {
          "base_uri": "https://localhost:8080/"
        },
        "id": "lQZhCRe2saTr",
        "outputId": "647a151f-d18a-466e-d3b9-ddde3b6bcc7f"
      },
      "execution_count": 21,
      "outputs": [
        {
          "output_type": "stream",
          "name": "stdout",
          "text": [
            "Epoch 1/100\n",
            "10/10 [==============================] - 1s 24ms/step - loss: 182.9314 - accuracy: 0.4781 - val_loss: 50.4938 - val_accuracy: 0.6000\n",
            "Epoch 2/100\n",
            "10/10 [==============================] - 0s 4ms/step - loss: 125.7187 - accuracy: 0.4781 - val_loss: 228.4607 - val_accuracy: 0.6000\n",
            "Epoch 3/100\n",
            "10/10 [==============================] - 0s 6ms/step - loss: 148.1817 - accuracy: 0.4969 - val_loss: 185.9140 - val_accuracy: 0.6000\n",
            "Epoch 4/100\n",
            "10/10 [==============================] - 0s 5ms/step - loss: 155.1816 - accuracy: 0.5406 - val_loss: 49.5027 - val_accuracy: 0.4000\n",
            "Epoch 5/100\n",
            "10/10 [==============================] - 0s 5ms/step - loss: 162.9585 - accuracy: 0.5781 - val_loss: 273.6682 - val_accuracy: 0.4000\n",
            "Epoch 6/100\n",
            "10/10 [==============================] - 0s 6ms/step - loss: 173.4593 - accuracy: 0.4969 - val_loss: 111.4352 - val_accuracy: 0.4000\n",
            "Epoch 7/100\n",
            "10/10 [==============================] - 0s 7ms/step - loss: 89.2675 - accuracy: 0.5156 - val_loss: 43.9584 - val_accuracy: 0.4000\n",
            "Epoch 8/100\n",
            "10/10 [==============================] - 0s 6ms/step - loss: 47.8133 - accuracy: 0.5156 - val_loss: 59.9597 - val_accuracy: 0.4000\n",
            "Epoch 9/100\n",
            "10/10 [==============================] - 0s 5ms/step - loss: 46.4795 - accuracy: 0.5219 - val_loss: 93.8939 - val_accuracy: 0.6000\n",
            "Epoch 10/100\n",
            "10/10 [==============================] - 0s 6ms/step - loss: 94.8919 - accuracy: 0.5406 - val_loss: 9.1896 - val_accuracy: 0.4000\n",
            "Epoch 11/100\n",
            "10/10 [==============================] - 0s 4ms/step - loss: 24.5773 - accuracy: 0.4969 - val_loss: 8.7444 - val_accuracy: 0.6000\n",
            "Epoch 12/100\n",
            "10/10 [==============================] - 0s 4ms/step - loss: 23.6440 - accuracy: 0.5719 - val_loss: 26.2188 - val_accuracy: 0.4000\n",
            "Epoch 13/100\n",
            "10/10 [==============================] - 0s 6ms/step - loss: 36.9583 - accuracy: 0.5094 - val_loss: 18.4281 - val_accuracy: 0.4000\n",
            "Epoch 14/100\n",
            "10/10 [==============================] - 0s 4ms/step - loss: 68.0434 - accuracy: 0.4719 - val_loss: 134.4503 - val_accuracy: 0.6000\n",
            "Epoch 15/100\n",
            "10/10 [==============================] - 0s 4ms/step - loss: 116.0039 - accuracy: 0.5031 - val_loss: 103.2284 - val_accuracy: 0.6000\n",
            "Epoch 16/100\n",
            "10/10 [==============================] - 0s 5ms/step - loss: 101.8257 - accuracy: 0.5781 - val_loss: 280.1273 - val_accuracy: 0.6000\n",
            "Epoch 17/100\n",
            "10/10 [==============================] - 0s 6ms/step - loss: 140.5867 - accuracy: 0.5281 - val_loss: 163.3914 - val_accuracy: 0.6000\n",
            "Epoch 18/100\n",
            "10/10 [==============================] - 0s 4ms/step - loss: 116.7762 - accuracy: 0.5156 - val_loss: 88.6048 - val_accuracy: 0.6000\n",
            "Epoch 19/100\n",
            "10/10 [==============================] - 0s 6ms/step - loss: 94.0756 - accuracy: 0.5406 - val_loss: 27.6624 - val_accuracy: 0.4000\n",
            "Epoch 20/100\n",
            "10/10 [==============================] - 0s 6ms/step - loss: 38.8944 - accuracy: 0.4906 - val_loss: 78.5429 - val_accuracy: 0.4000\n",
            "Epoch 21/100\n",
            "10/10 [==============================] - 0s 4ms/step - loss: 65.6598 - accuracy: 0.4437 - val_loss: 131.6950 - val_accuracy: 0.6000\n",
            "Epoch 22/100\n",
            "10/10 [==============================] - 0s 6ms/step - loss: 109.0179 - accuracy: 0.5344 - val_loss: 209.6724 - val_accuracy: 0.6000\n",
            "Epoch 23/100\n",
            "10/10 [==============================] - 0s 6ms/step - loss: 116.1554 - accuracy: 0.5719 - val_loss: 95.5205 - val_accuracy: 0.6000\n",
            "Epoch 24/100\n",
            "10/10 [==============================] - 0s 5ms/step - loss: 55.8880 - accuracy: 0.5219 - val_loss: 11.6493 - val_accuracy: 0.6000\n",
            "Epoch 25/100\n",
            "10/10 [==============================] - 0s 4ms/step - loss: 33.2320 - accuracy: 0.5469 - val_loss: 40.3940 - val_accuracy: 0.6000\n",
            "Epoch 26/100\n",
            "10/10 [==============================] - 0s 4ms/step - loss: 51.9745 - accuracy: 0.4719 - val_loss: 134.1668 - val_accuracy: 0.6000\n",
            "Epoch 27/100\n",
            "10/10 [==============================] - 0s 4ms/step - loss: 107.0900 - accuracy: 0.5156 - val_loss: 230.7032 - val_accuracy: 0.6000\n",
            "Epoch 28/100\n",
            "10/10 [==============================] - 0s 4ms/step - loss: 74.5455 - accuracy: 0.5406 - val_loss: 76.1792 - val_accuracy: 0.4000\n",
            "Epoch 29/100\n",
            "10/10 [==============================] - 0s 4ms/step - loss: 111.7269 - accuracy: 0.4781 - val_loss: 93.6520 - val_accuracy: 0.4000\n",
            "Epoch 30/100\n",
            "10/10 [==============================] - 0s 4ms/step - loss: 103.8729 - accuracy: 0.4844 - val_loss: 66.5294 - val_accuracy: 0.6000\n",
            "Epoch 31/100\n",
            "10/10 [==============================] - 0s 4ms/step - loss: 91.0612 - accuracy: 0.5094 - val_loss: 153.5525 - val_accuracy: 0.6000\n",
            "Epoch 32/100\n",
            "10/10 [==============================] - 0s 6ms/step - loss: 89.2407 - accuracy: 0.5344 - val_loss: 214.7620 - val_accuracy: 0.6000\n",
            "Epoch 33/100\n",
            "10/10 [==============================] - 0s 6ms/step - loss: 74.0079 - accuracy: 0.5844 - val_loss: 6.7802 - val_accuracy: 0.6000\n",
            "Epoch 34/100\n",
            "10/10 [==============================] - 0s 4ms/step - loss: 33.4601 - accuracy: 0.5406 - val_loss: 15.7793 - val_accuracy: 0.4000\n",
            "Epoch 35/100\n",
            "10/10 [==============================] - 0s 4ms/step - loss: 16.6902 - accuracy: 0.5406 - val_loss: 49.5286 - val_accuracy: 0.4000\n",
            "Epoch 36/100\n",
            "10/10 [==============================] - 0s 6ms/step - loss: 55.4449 - accuracy: 0.4969 - val_loss: 105.5685 - val_accuracy: 0.6000\n",
            "Epoch 37/100\n",
            "10/10 [==============================] - 0s 4ms/step - loss: 188.1012 - accuracy: 0.4969 - val_loss: 87.0295 - val_accuracy: 0.4000\n",
            "Epoch 38/100\n",
            "10/10 [==============================] - 0s 5ms/step - loss: 139.6317 - accuracy: 0.5531 - val_loss: 278.6472 - val_accuracy: 0.4000\n",
            "Epoch 39/100\n",
            "10/10 [==============================] - 0s 5ms/step - loss: 151.4721 - accuracy: 0.4594 - val_loss: 105.9083 - val_accuracy: 0.4000\n",
            "Epoch 40/100\n",
            "10/10 [==============================] - 0s 7ms/step - loss: 104.9081 - accuracy: 0.5406 - val_loss: 145.1871 - val_accuracy: 0.4000\n",
            "Epoch 41/100\n",
            "10/10 [==============================] - 0s 6ms/step - loss: 46.1841 - accuracy: 0.5781 - val_loss: 79.1989 - val_accuracy: 0.6000\n",
            "Epoch 42/100\n",
            "10/10 [==============================] - 0s 5ms/step - loss: 42.1224 - accuracy: 0.5344 - val_loss: 70.0318 - val_accuracy: 0.4000\n",
            "Epoch 43/100\n",
            "10/10 [==============================] - 0s 5ms/step - loss: 98.9560 - accuracy: 0.4844 - val_loss: 135.6803 - val_accuracy: 0.4000\n",
            "Epoch 44/100\n",
            "10/10 [==============================] - 0s 4ms/step - loss: 122.8184 - accuracy: 0.5531 - val_loss: 165.8108 - val_accuracy: 0.4000\n",
            "Epoch 45/100\n",
            "10/10 [==============================] - 0s 5ms/step - loss: 153.0920 - accuracy: 0.5906 - val_loss: 110.1960 - val_accuracy: 0.4000\n",
            "Epoch 46/100\n",
            "10/10 [==============================] - 0s 4ms/step - loss: 112.8511 - accuracy: 0.4781 - val_loss: 175.2725 - val_accuracy: 0.4000\n",
            "Epoch 47/100\n",
            "10/10 [==============================] - 0s 4ms/step - loss: 80.0338 - accuracy: 0.4719 - val_loss: 49.2062 - val_accuracy: 0.6000\n",
            "Epoch 48/100\n",
            "10/10 [==============================] - 0s 4ms/step - loss: 60.7684 - accuracy: 0.5219 - val_loss: 44.6148 - val_accuracy: 0.4000\n",
            "Epoch 49/100\n",
            "10/10 [==============================] - 0s 4ms/step - loss: 45.8911 - accuracy: 0.4719 - val_loss: 5.8930 - val_accuracy: 0.4000\n",
            "Epoch 50/100\n",
            "10/10 [==============================] - 0s 4ms/step - loss: 61.1427 - accuracy: 0.5406 - val_loss: 44.1680 - val_accuracy: 0.4000\n",
            "Epoch 51/100\n",
            "10/10 [==============================] - 0s 5ms/step - loss: 55.4815 - accuracy: 0.4656 - val_loss: 29.9998 - val_accuracy: 0.6000\n",
            "Epoch 52/100\n",
            "10/10 [==============================] - 0s 6ms/step - loss: 21.8285 - accuracy: 0.4875 - val_loss: 51.0058 - val_accuracy: 0.6000\n",
            "Epoch 53/100\n",
            "10/10 [==============================] - 0s 6ms/step - loss: 75.0438 - accuracy: 0.5531 - val_loss: 10.8099 - val_accuracy: 0.4000\n",
            "Epoch 54/100\n",
            "10/10 [==============================] - 0s 4ms/step - loss: 36.2449 - accuracy: 0.4969 - val_loss: 26.4228 - val_accuracy: 0.4000\n",
            "Epoch 55/100\n",
            "10/10 [==============================] - 0s 5ms/step - loss: 26.4984 - accuracy: 0.5156 - val_loss: 65.2782 - val_accuracy: 0.6000\n",
            "Epoch 56/100\n",
            "10/10 [==============================] - 0s 5ms/step - loss: 54.3983 - accuracy: 0.5906 - val_loss: 28.1351 - val_accuracy: 0.4000\n",
            "Epoch 57/100\n",
            "10/10 [==============================] - 0s 4ms/step - loss: 84.8911 - accuracy: 0.5125 - val_loss: 156.3614 - val_accuracy: 0.4000\n",
            "Epoch 58/100\n",
            "10/10 [==============================] - 0s 6ms/step - loss: 70.1219 - accuracy: 0.5281 - val_loss: 28.2614 - val_accuracy: 0.4000\n",
            "Epoch 59/100\n",
            "10/10 [==============================] - 0s 4ms/step - loss: 57.0298 - accuracy: 0.5312 - val_loss: 67.1317 - val_accuracy: 0.6000\n",
            "Epoch 60/100\n",
            "10/10 [==============================] - 0s 7ms/step - loss: 46.1599 - accuracy: 0.5031 - val_loss: 0.7961 - val_accuracy: 0.5500\n",
            "Epoch 61/100\n",
            "10/10 [==============================] - 0s 6ms/step - loss: 24.0275 - accuracy: 0.5531 - val_loss: 32.3796 - val_accuracy: 0.6000\n",
            "Epoch 62/100\n",
            "10/10 [==============================] - 0s 6ms/step - loss: 26.0193 - accuracy: 0.5219 - val_loss: 52.0636 - val_accuracy: 0.4000\n",
            "Epoch 63/100\n",
            "10/10 [==============================] - 0s 4ms/step - loss: 27.9847 - accuracy: 0.5031 - val_loss: 30.6664 - val_accuracy: 0.4000\n",
            "Epoch 64/100\n",
            "10/10 [==============================] - 0s 4ms/step - loss: 36.3244 - accuracy: 0.4969 - val_loss: 40.0671 - val_accuracy: 0.6000\n",
            "Epoch 65/100\n",
            "10/10 [==============================] - 0s 4ms/step - loss: 31.2022 - accuracy: 0.5031 - val_loss: 15.8389 - val_accuracy: 0.6000\n",
            "Epoch 66/100\n",
            "10/10 [==============================] - 0s 5ms/step - loss: 35.9058 - accuracy: 0.5094 - val_loss: 36.5570 - val_accuracy: 0.4000\n",
            "Epoch 67/100\n",
            "10/10 [==============================] - 0s 5ms/step - loss: 71.6074 - accuracy: 0.5094 - val_loss: 78.7810 - val_accuracy: 0.6000\n",
            "Epoch 68/100\n",
            "10/10 [==============================] - 0s 5ms/step - loss: 67.0355 - accuracy: 0.4906 - val_loss: 58.5204 - val_accuracy: 0.4000\n",
            "Epoch 69/100\n",
            "10/10 [==============================] - 0s 4ms/step - loss: 30.2829 - accuracy: 0.5656 - val_loss: 60.4676 - val_accuracy: 0.4000\n",
            "Epoch 70/100\n",
            "10/10 [==============================] - 0s 5ms/step - loss: 71.1180 - accuracy: 0.5406 - val_loss: 10.2931 - val_accuracy: 0.4000\n",
            "Epoch 71/100\n",
            "10/10 [==============================] - 0s 6ms/step - loss: 76.9896 - accuracy: 0.5938 - val_loss: 88.6726 - val_accuracy: 0.6000\n",
            "Epoch 72/100\n",
            "10/10 [==============================] - 0s 4ms/step - loss: 49.5151 - accuracy: 0.5281 - val_loss: 34.8867 - val_accuracy: 0.6000\n",
            "Epoch 73/100\n",
            "10/10 [==============================] - 0s 7ms/step - loss: 60.1747 - accuracy: 0.6094 - val_loss: 9.9177 - val_accuracy: 0.6000\n",
            "Epoch 74/100\n",
            "10/10 [==============================] - 0s 6ms/step - loss: 186.4549 - accuracy: 0.4844 - val_loss: 347.9110 - val_accuracy: 0.6000\n",
            "Epoch 75/100\n",
            "10/10 [==============================] - 0s 4ms/step - loss: 138.3662 - accuracy: 0.5531 - val_loss: 102.1861 - val_accuracy: 0.6000\n",
            "Epoch 76/100\n",
            "10/10 [==============================] - 0s 5ms/step - loss: 57.9305 - accuracy: 0.5531 - val_loss: 90.8749 - val_accuracy: 0.4000\n",
            "Epoch 77/100\n",
            "10/10 [==============================] - 0s 7ms/step - loss: 43.9411 - accuracy: 0.5781 - val_loss: 21.1211 - val_accuracy: 0.6000\n",
            "Epoch 78/100\n",
            "10/10 [==============================] - 0s 4ms/step - loss: 84.4331 - accuracy: 0.4656 - val_loss: 118.7668 - val_accuracy: 0.4000\n",
            "Epoch 79/100\n",
            "10/10 [==============================] - 0s 5ms/step - loss: 88.6286 - accuracy: 0.4656 - val_loss: 116.5461 - val_accuracy: 0.6000\n",
            "Epoch 80/100\n",
            "10/10 [==============================] - 0s 4ms/step - loss: 46.3499 - accuracy: 0.5219 - val_loss: 64.5462 - val_accuracy: 0.6000\n",
            "Epoch 81/100\n",
            "10/10 [==============================] - 0s 4ms/step - loss: 36.7422 - accuracy: 0.5094 - val_loss: 22.8743 - val_accuracy: 0.4000\n",
            "Epoch 82/100\n",
            "10/10 [==============================] - 0s 4ms/step - loss: 29.3245 - accuracy: 0.4938 - val_loss: 24.3295 - val_accuracy: 0.6000\n",
            "Epoch 83/100\n",
            "10/10 [==============================] - 0s 4ms/step - loss: 40.6898 - accuracy: 0.4906 - val_loss: 94.5410 - val_accuracy: 0.6000\n",
            "Epoch 84/100\n",
            "10/10 [==============================] - 0s 6ms/step - loss: 48.6079 - accuracy: 0.5094 - val_loss: 36.8418 - val_accuracy: 0.6000\n",
            "Epoch 85/100\n",
            "10/10 [==============================] - 0s 4ms/step - loss: 33.1814 - accuracy: 0.5281 - val_loss: 24.4358 - val_accuracy: 0.6000\n",
            "Epoch 86/100\n",
            "10/10 [==============================] - 0s 4ms/step - loss: 24.2865 - accuracy: 0.5594 - val_loss: 9.9498 - val_accuracy: 0.4000\n",
            "Epoch 87/100\n",
            "10/10 [==============================] - 0s 5ms/step - loss: 51.5920 - accuracy: 0.4906 - val_loss: 47.0517 - val_accuracy: 0.4000\n",
            "Epoch 88/100\n",
            "10/10 [==============================] - 0s 6ms/step - loss: 45.3172 - accuracy: 0.5406 - val_loss: 96.6477 - val_accuracy: 0.4000\n",
            "Epoch 89/100\n",
            "10/10 [==============================] - 0s 4ms/step - loss: 65.3698 - accuracy: 0.4281 - val_loss: 16.7095 - val_accuracy: 0.4000\n",
            "Epoch 90/100\n",
            "10/10 [==============================] - 0s 6ms/step - loss: 60.8161 - accuracy: 0.4594 - val_loss: 213.6844 - val_accuracy: 0.6000\n",
            "Epoch 91/100\n",
            "10/10 [==============================] - 0s 6ms/step - loss: 115.8536 - accuracy: 0.5094 - val_loss: 167.3751 - val_accuracy: 0.6000\n",
            "Epoch 92/100\n",
            "10/10 [==============================] - 0s 5ms/step - loss: 106.9107 - accuracy: 0.5281 - val_loss: 76.6398 - val_accuracy: 0.6000\n",
            "Epoch 93/100\n",
            "10/10 [==============================] - 0s 7ms/step - loss: 77.3695 - accuracy: 0.5531 - val_loss: 82.0483 - val_accuracy: 0.4000\n",
            "Epoch 94/100\n",
            "10/10 [==============================] - 0s 5ms/step - loss: 95.0851 - accuracy: 0.5469 - val_loss: 95.2782 - val_accuracy: 0.4000\n",
            "Epoch 95/100\n",
            "10/10 [==============================] - 0s 5ms/step - loss: 82.2878 - accuracy: 0.4906 - val_loss: 13.8414 - val_accuracy: 0.4000\n",
            "Epoch 96/100\n",
            "10/10 [==============================] - 0s 6ms/step - loss: 77.8046 - accuracy: 0.5156 - val_loss: 174.2662 - val_accuracy: 0.6000\n",
            "Epoch 97/100\n",
            "10/10 [==============================] - 0s 4ms/step - loss: 136.1708 - accuracy: 0.5219 - val_loss: 51.1086 - val_accuracy: 0.6000\n",
            "Epoch 98/100\n",
            "10/10 [==============================] - 0s 6ms/step - loss: 40.3398 - accuracy: 0.5156 - val_loss: 80.3438 - val_accuracy: 0.6000\n",
            "Epoch 99/100\n",
            "10/10 [==============================] - 0s 4ms/step - loss: 53.4599 - accuracy: 0.4594 - val_loss: 14.6094 - val_accuracy: 0.6000\n",
            "Epoch 100/100\n",
            "10/10 [==============================] - 0s 4ms/step - loss: 30.5728 - accuracy: 0.5469 - val_loss: 8.8111 - val_accuracy: 0.6000\n"
          ]
        }
      ]
    },
    {
      "cell_type": "code",
      "source": [
        "import matplotlib.pyplot as plt\n",
        "plt.plot(history.history[\"val_accuracy\"])\n",
        "#by overving this graph the accuracy is varry in between only 40% to 60%, 1 to 100 epochs"
      ],
      "metadata": {
        "colab": {
          "base_uri": "https://localhost:8080/",
          "height": 282
        },
        "id": "FyMyCiYyvZV4",
        "outputId": "725b3951-08ed-4fcc-91eb-f2d4db6b3145"
      },
      "execution_count": 22,
      "outputs": [
        {
          "output_type": "execute_result",
          "data": {
            "text/plain": [
              "[<matplotlib.lines.Line2D at 0x7fe94df90d90>]"
            ]
          },
          "metadata": {},
          "execution_count": 22
        },
        {
          "output_type": "display_data",
          "data": {
            "text/plain": [
              "<Figure size 432x288 with 1 Axes>"
            ],
            "image/png": "[encoded data removed]"
          },
          "metadata": {
            "needs_background": "light"
          }
        }
      ]
    },
    {
      "cell_type": "code",
      "source": [
        "#the accuracy is ranging in between 40-60% because of the scale of the input feature is more \n",
        "#so we have to set the scale of the input features\n",
        "from sklearn.preprocessing import StandardScaler\n",
        "scaler = StandardScaler()\n",
        "\n",
        "x_train_scaled = scaler.fit_transform(x_train)\n",
        "x_test.scaled = scaler.fit_transform(x_test)"
      ],
      "metadata": {
        "colab": {
          "base_uri": "https://localhost:8080/"
        },
        "id": "N6w2MZmBvZXn",
        "outputId": "712d1e3f-3de2-44f7-85b3-11b64f47ba53"
      },
      "execution_count": 23,
      "outputs": [
        {
          "output_type": "stream",
          "name": "stderr",
          "text": [
            "/usr/local/lib/python3.7/dist-packages/ipykernel_launcher.py:7: UserWarning: Pandas doesn't allow columns to be created via a new attribute name - see https://pandas.pydata.org/pandas-docs/stable/indexing.html#attribute-access\n",
            "  import sys\n"
          ]
        }
      ]
    },
    {
      "cell_type": "code",
      "source": [
        "sns.scatterplot(x_train_scaled[:,0],x_train_scaled[:,1])"
      ],
      "metadata": {
        "colab": {
          "base_uri": "https://localhost:8080/",
          "height": 338
        },
        "id": "885LZO2bvZjJ",
        "outputId": "649eeefd-bd8d-4356-939f-35eb764578ae"
      },
      "execution_count": 25,
      "outputs": [
        {
          "output_type": "stream",
          "name": "stderr",
          "text": [
            "/usr/local/lib/python3.7/dist-packages/seaborn/_decorators.py:43: FutureWarning: Pass the following variables as keyword args: x, y. From version 0.12, the only valid positional argument will be `data`, and passing other arguments without an explicit keyword will result in an error or misinterpretation.\n",
            "  FutureWarning\n"
          ]
        },
        {
          "output_type": "execute_result",
          "data": {
            "text/plain": [
              "<matplotlib.axes._subplots.AxesSubplot at 0x7fe94a8d90d0>"
            ]
          },
          "metadata": {},
          "execution_count": 25
        },
        {
          "output_type": "display_data",
          "data": {
            "text/plain": [
              "<Figure size 432x288 with 1 Axes>"
            ],
            "image/png": "[encoded data removed]"
          },
          "metadata": {
            "needs_background": "light"
          }
        }
      ]
    },
    {
      "cell_type": "code",
      "source": [
        "model = Sequential()\n",
        "model.add(Dense(128,activation='relu',input_dim=2) ) #128 neuron of hidden layers\n",
        "model.add(Dense(1,activation=\"sigmoid\"))\n",
        "model.compile(optimizer='adam',loss='binary_crossentropy',metrics=['accuracy'])\n",
        "history1 = model.fit(x_train_scaled, y_train, validation_data=(x_test.scaled, y_test ), epochs= 100)"
      ],
      "metadata": {
        "colab": {
          "base_uri": "https://localhost:8080/"
        },
        "id": "doPNywj3vZk6",
        "outputId": "fcaa3e48-f83b-4345-9b13-2975d6f992fa"
      },
      "execution_count": 28,
      "outputs": [
        {
          "output_type": "stream",
          "name": "stdout",
          "text": [
            "Epoch 1/100\n",
            "10/10 [==============================] - 1s 21ms/step - loss: 0.6917 - accuracy: 0.5594 - val_loss: 0.6553 - val_accuracy: 0.7625\n",
            "Epoch 2/100\n",
            "10/10 [==============================] - 0s 5ms/step - loss: 0.6308 - accuracy: 0.7969 - val_loss: 0.5971 - val_accuracy: 0.7875\n",
            "Epoch 3/100\n",
            "10/10 [==============================] - 0s 7ms/step - loss: 0.5797 - accuracy: 0.8156 - val_loss: 0.5470 - val_accuracy: 0.7875\n",
            "Epoch 4/100\n",
            "10/10 [==============================] - 0s 6ms/step - loss: 0.5346 - accuracy: 0.8188 - val_loss: 0.5056 - val_accuracy: 0.7875\n",
            "Epoch 5/100\n",
            "10/10 [==============================] - 0s 6ms/step - loss: 0.4957 - accuracy: 0.8219 - val_loss: 0.4711 - val_accuracy: 0.7875\n",
            "Epoch 6/100\n",
            "10/10 [==============================] - 0s 4ms/step - loss: 0.4626 - accuracy: 0.8313 - val_loss: 0.4415 - val_accuracy: 0.8125\n",
            "Epoch 7/100\n",
            "10/10 [==============================] - 0s 4ms/step - loss: 0.4345 - accuracy: 0.8438 - val_loss: 0.4165 - val_accuracy: 0.8250\n",
            "Epoch 8/100\n",
            "10/10 [==============================] - 0s 5ms/step - loss: 0.4094 - accuracy: 0.8500 - val_loss: 0.3963 - val_accuracy: 0.8250\n",
            "Epoch 9/100\n",
            "10/10 [==============================] - 0s 7ms/step - loss: 0.3884 - accuracy: 0.8500 - val_loss: 0.3790 - val_accuracy: 0.8250\n",
            "Epoch 10/100\n",
            "10/10 [==============================] - 0s 6ms/step - loss: 0.3704 - accuracy: 0.8687 - val_loss: 0.3647 - val_accuracy: 0.8250\n",
            "Epoch 11/100\n",
            "10/10 [==============================] - 0s 4ms/step - loss: 0.3550 - accuracy: 0.8687 - val_loss: 0.3523 - val_accuracy: 0.8250\n",
            "Epoch 12/100\n",
            "10/10 [==============================] - 0s 4ms/step - loss: 0.3422 - accuracy: 0.8719 - val_loss: 0.3417 - val_accuracy: 0.8250\n",
            "Epoch 13/100\n",
            "10/10 [==============================] - 0s 4ms/step - loss: 0.3304 - accuracy: 0.8813 - val_loss: 0.3333 - val_accuracy: 0.8375\n",
            "Epoch 14/100\n",
            "10/10 [==============================] - 0s 4ms/step - loss: 0.3208 - accuracy: 0.8875 - val_loss: 0.3264 - val_accuracy: 0.8250\n",
            "Epoch 15/100\n",
            "10/10 [==============================] - 0s 4ms/step - loss: 0.3123 - accuracy: 0.8906 - val_loss: 0.3200 - val_accuracy: 0.8375\n",
            "Epoch 16/100\n",
            "10/10 [==============================] - 0s 4ms/step - loss: 0.3053 - accuracy: 0.8938 - val_loss: 0.3153 - val_accuracy: 0.8250\n",
            "Epoch 17/100\n",
            "10/10 [==============================] - 0s 6ms/step - loss: 0.2991 - accuracy: 0.8938 - val_loss: 0.3110 - val_accuracy: 0.8250\n",
            "Epoch 18/100\n",
            "10/10 [==============================] - 0s 4ms/step - loss: 0.2936 - accuracy: 0.8969 - val_loss: 0.3072 - val_accuracy: 0.8375\n",
            "Epoch 19/100\n",
            "10/10 [==============================] - 0s 4ms/step - loss: 0.2885 - accuracy: 0.9000 - val_loss: 0.3038 - val_accuracy: 0.8375\n",
            "Epoch 20/100\n",
            "10/10 [==============================] - 0s 5ms/step - loss: 0.2842 - accuracy: 0.9031 - val_loss: 0.3023 - val_accuracy: 0.8500\n",
            "Epoch 21/100\n",
            "10/10 [==============================] - 0s 4ms/step - loss: 0.2805 - accuracy: 0.8969 - val_loss: 0.2994 - val_accuracy: 0.8625\n",
            "Epoch 22/100\n",
            "10/10 [==============================] - 0s 4ms/step - loss: 0.2775 - accuracy: 0.8938 - val_loss: 0.2985 - val_accuracy: 0.8625\n",
            "Epoch 23/100\n",
            "10/10 [==============================] - 0s 4ms/step - loss: 0.2742 - accuracy: 0.8969 - val_loss: 0.2954 - val_accuracy: 0.8625\n",
            "Epoch 24/100\n",
            "10/10 [==============================] - 0s 4ms/step - loss: 0.2720 - accuracy: 0.9031 - val_loss: 0.2916 - val_accuracy: 0.8750\n",
            "Epoch 25/100\n",
            "10/10 [==============================] - 0s 5ms/step - loss: 0.2694 - accuracy: 0.9000 - val_loss: 0.2913 - val_accuracy: 0.8625\n",
            "Epoch 26/100\n",
            "10/10 [==============================] - 0s 4ms/step - loss: 0.2668 - accuracy: 0.8969 - val_loss: 0.2886 - val_accuracy: 0.8625\n",
            "Epoch 27/100\n",
            "10/10 [==============================] - 0s 8ms/step - loss: 0.2647 - accuracy: 0.8969 - val_loss: 0.2873 - val_accuracy: 0.8625\n",
            "Epoch 28/100\n",
            "10/10 [==============================] - 0s 5ms/step - loss: 0.2628 - accuracy: 0.9000 - val_loss: 0.2859 - val_accuracy: 0.8625\n",
            "Epoch 29/100\n",
            "10/10 [==============================] - 0s 4ms/step - loss: 0.2613 - accuracy: 0.9000 - val_loss: 0.2849 - val_accuracy: 0.8625\n",
            "Epoch 30/100\n",
            "10/10 [==============================] - 0s 4ms/step - loss: 0.2598 - accuracy: 0.9000 - val_loss: 0.2833 - val_accuracy: 0.8875\n",
            "Epoch 31/100\n",
            "10/10 [==============================] - 0s 5ms/step - loss: 0.2583 - accuracy: 0.8969 - val_loss: 0.2797 - val_accuracy: 0.8875\n",
            "Epoch 32/100\n",
            "10/10 [==============================] - 0s 4ms/step - loss: 0.2566 - accuracy: 0.9000 - val_loss: 0.2805 - val_accuracy: 0.8875\n",
            "Epoch 33/100\n",
            "10/10 [==============================] - 0s 6ms/step - loss: 0.2559 - accuracy: 0.8969 - val_loss: 0.2807 - val_accuracy: 0.8875\n",
            "Epoch 34/100\n",
            "10/10 [==============================] - 0s 6ms/step - loss: 0.2544 - accuracy: 0.9000 - val_loss: 0.2768 - val_accuracy: 0.8875\n",
            "Epoch 35/100\n",
            "10/10 [==============================] - 0s 6ms/step - loss: 0.2530 - accuracy: 0.9000 - val_loss: 0.2774 - val_accuracy: 0.8875\n",
            "Epoch 36/100\n",
            "10/10 [==============================] - 0s 4ms/step - loss: 0.2522 - accuracy: 0.9000 - val_loss: 0.2759 - val_accuracy: 0.8875\n",
            "Epoch 37/100\n",
            "10/10 [==============================] - 0s 4ms/step - loss: 0.2508 - accuracy: 0.9000 - val_loss: 0.2749 - val_accuracy: 0.8875\n",
            "Epoch 38/100\n",
            "10/10 [==============================] - 0s 4ms/step - loss: 0.2501 - accuracy: 0.9000 - val_loss: 0.2739 - val_accuracy: 0.8875\n",
            "Epoch 39/100\n",
            "10/10 [==============================] - 0s 5ms/step - loss: 0.2491 - accuracy: 0.9000 - val_loss: 0.2740 - val_accuracy: 0.8875\n",
            "Epoch 40/100\n",
            "10/10 [==============================] - 0s 4ms/step - loss: 0.2482 - accuracy: 0.9000 - val_loss: 0.2750 - val_accuracy: 0.8875\n",
            "Epoch 41/100\n",
            "10/10 [==============================] - 0s 6ms/step - loss: 0.2474 - accuracy: 0.9000 - val_loss: 0.2753 - val_accuracy: 0.8875\n",
            "Epoch 42/100\n",
            "10/10 [==============================] - 0s 6ms/step - loss: 0.2466 - accuracy: 0.9000 - val_loss: 0.2727 - val_accuracy: 0.8875\n",
            "Epoch 43/100\n",
            "10/10 [==============================] - 0s 5ms/step - loss: 0.2464 - accuracy: 0.9000 - val_loss: 0.2735 - val_accuracy: 0.8875\n",
            "Epoch 44/100\n",
            "10/10 [==============================] - 0s 4ms/step - loss: 0.2454 - accuracy: 0.9000 - val_loss: 0.2734 - val_accuracy: 0.8875\n",
            "Epoch 45/100\n",
            "10/10 [==============================] - 0s 6ms/step - loss: 0.2447 - accuracy: 0.9000 - val_loss: 0.2712 - val_accuracy: 0.8875\n",
            "Epoch 46/100\n",
            "10/10 [==============================] - 0s 7ms/step - loss: 0.2438 - accuracy: 0.9000 - val_loss: 0.2697 - val_accuracy: 0.9000\n",
            "Epoch 47/100\n",
            "10/10 [==============================] - 0s 4ms/step - loss: 0.2433 - accuracy: 0.9000 - val_loss: 0.2686 - val_accuracy: 0.9000\n",
            "Epoch 48/100\n",
            "10/10 [==============================] - 0s 5ms/step - loss: 0.2431 - accuracy: 0.9000 - val_loss: 0.2688 - val_accuracy: 0.9250\n",
            "Epoch 49/100\n",
            "10/10 [==============================] - 0s 4ms/step - loss: 0.2425 - accuracy: 0.9000 - val_loss: 0.2666 - val_accuracy: 0.9250\n",
            "Epoch 50/100\n",
            "10/10 [==============================] - 0s 5ms/step - loss: 0.2420 - accuracy: 0.9000 - val_loss: 0.2679 - val_accuracy: 0.9250\n",
            "Epoch 51/100\n",
            "10/10 [==============================] - 0s 5ms/step - loss: 0.2412 - accuracy: 0.9000 - val_loss: 0.2674 - val_accuracy: 0.9250\n",
            "Epoch 52/100\n",
            "10/10 [==============================] - 0s 5ms/step - loss: 0.2406 - accuracy: 0.9000 - val_loss: 0.2683 - val_accuracy: 0.9125\n",
            "Epoch 53/100\n",
            "10/10 [==============================] - 0s 4ms/step - loss: 0.2402 - accuracy: 0.9000 - val_loss: 0.2687 - val_accuracy: 0.9000\n",
            "Epoch 54/100\n",
            "10/10 [==============================] - 0s 6ms/step - loss: 0.2410 - accuracy: 0.9000 - val_loss: 0.2725 - val_accuracy: 0.8875\n",
            "Epoch 55/100\n",
            "10/10 [==============================] - 0s 6ms/step - loss: 0.2392 - accuracy: 0.9000 - val_loss: 0.2691 - val_accuracy: 0.9250\n",
            "Epoch 56/100\n",
            "10/10 [==============================] - 0s 5ms/step - loss: 0.2387 - accuracy: 0.9000 - val_loss: 0.2667 - val_accuracy: 0.9250\n",
            "Epoch 57/100\n",
            "10/10 [==============================] - 0s 4ms/step - loss: 0.2384 - accuracy: 0.9000 - val_loss: 0.2644 - val_accuracy: 0.9250\n",
            "Epoch 58/100\n",
            "10/10 [==============================] - 0s 4ms/step - loss: 0.2388 - accuracy: 0.9000 - val_loss: 0.2630 - val_accuracy: 0.9250\n",
            "Epoch 59/100\n",
            "10/10 [==============================] - 0s 6ms/step - loss: 0.2378 - accuracy: 0.9031 - val_loss: 0.2644 - val_accuracy: 0.9250\n",
            "Epoch 60/100\n",
            "10/10 [==============================] - 0s 6ms/step - loss: 0.2381 - accuracy: 0.9000 - val_loss: 0.2686 - val_accuracy: 0.9250\n",
            "Epoch 61/100\n",
            "10/10 [==============================] - 0s 4ms/step - loss: 0.2375 - accuracy: 0.9000 - val_loss: 0.2666 - val_accuracy: 0.9250\n",
            "Epoch 62/100\n",
            "10/10 [==============================] - 0s 4ms/step - loss: 0.2367 - accuracy: 0.9000 - val_loss: 0.2636 - val_accuracy: 0.9250\n",
            "Epoch 63/100\n",
            "10/10 [==============================] - 0s 8ms/step - loss: 0.2366 - accuracy: 0.9000 - val_loss: 0.2644 - val_accuracy: 0.9250\n",
            "Epoch 64/100\n",
            "10/10 [==============================] - 0s 5ms/step - loss: 0.2361 - accuracy: 0.9031 - val_loss: 0.2644 - val_accuracy: 0.9250\n",
            "Epoch 65/100\n",
            "10/10 [==============================] - 0s 4ms/step - loss: 0.2362 - accuracy: 0.9031 - val_loss: 0.2629 - val_accuracy: 0.9250\n",
            "Epoch 66/100\n",
            "10/10 [==============================] - 0s 5ms/step - loss: 0.2353 - accuracy: 0.9031 - val_loss: 0.2636 - val_accuracy: 0.9250\n",
            "Epoch 67/100\n",
            "10/10 [==============================] - 0s 4ms/step - loss: 0.2355 - accuracy: 0.9031 - val_loss: 0.2617 - val_accuracy: 0.9250\n",
            "Epoch 68/100\n",
            "10/10 [==============================] - 0s 4ms/step - loss: 0.2353 - accuracy: 0.9031 - val_loss: 0.2660 - val_accuracy: 0.9250\n",
            "Epoch 69/100\n",
            "10/10 [==============================] - 0s 4ms/step - loss: 0.2348 - accuracy: 0.9031 - val_loss: 0.2663 - val_accuracy: 0.9250\n",
            "Epoch 70/100\n",
            "10/10 [==============================] - 0s 4ms/step - loss: 0.2348 - accuracy: 0.9000 - val_loss: 0.2633 - val_accuracy: 0.9250\n",
            "Epoch 71/100\n",
            "10/10 [==============================] - 0s 6ms/step - loss: 0.2350 - accuracy: 0.9031 - val_loss: 0.2614 - val_accuracy: 0.9250\n",
            "Epoch 72/100\n",
            "10/10 [==============================] - 0s 4ms/step - loss: 0.2337 - accuracy: 0.9031 - val_loss: 0.2623 - val_accuracy: 0.9250\n",
            "Epoch 73/100\n",
            "10/10 [==============================] - 0s 4ms/step - loss: 0.2340 - accuracy: 0.9062 - val_loss: 0.2659 - val_accuracy: 0.9375\n",
            "Epoch 74/100\n",
            "10/10 [==============================] - 0s 5ms/step - loss: 0.2338 - accuracy: 0.9031 - val_loss: 0.2671 - val_accuracy: 0.9375\n",
            "Epoch 75/100\n",
            "10/10 [==============================] - 0s 4ms/step - loss: 0.2340 - accuracy: 0.9062 - val_loss: 0.2618 - val_accuracy: 0.9250\n",
            "Epoch 76/100\n",
            "10/10 [==============================] - 0s 6ms/step - loss: 0.2333 - accuracy: 0.9062 - val_loss: 0.2611 - val_accuracy: 0.9250\n",
            "Epoch 77/100\n",
            "10/10 [==============================] - 0s 7ms/step - loss: 0.2329 - accuracy: 0.9062 - val_loss: 0.2634 - val_accuracy: 0.9375\n",
            "Epoch 78/100\n",
            "10/10 [==============================] - 0s 5ms/step - loss: 0.2326 - accuracy: 0.9094 - val_loss: 0.2624 - val_accuracy: 0.9250\n",
            "Epoch 79/100\n",
            "10/10 [==============================] - 0s 4ms/step - loss: 0.2323 - accuracy: 0.9094 - val_loss: 0.2629 - val_accuracy: 0.9375\n",
            "Epoch 80/100\n",
            "10/10 [==============================] - 0s 4ms/step - loss: 0.2320 - accuracy: 0.9094 - val_loss: 0.2626 - val_accuracy: 0.9375\n",
            "Epoch 81/100\n",
            "10/10 [==============================] - 0s 5ms/step - loss: 0.2321 - accuracy: 0.9094 - val_loss: 0.2626 - val_accuracy: 0.9375\n",
            "Epoch 82/100\n",
            "10/10 [==============================] - 0s 4ms/step - loss: 0.2324 - accuracy: 0.9062 - val_loss: 0.2594 - val_accuracy: 0.9375\n",
            "Epoch 83/100\n",
            "10/10 [==============================] - 0s 4ms/step - loss: 0.2320 - accuracy: 0.9094 - val_loss: 0.2596 - val_accuracy: 0.9250\n",
            "Epoch 84/100\n",
            "10/10 [==============================] - 0s 6ms/step - loss: 0.2314 - accuracy: 0.9031 - val_loss: 0.2603 - val_accuracy: 0.9250\n",
            "Epoch 85/100\n",
            "10/10 [==============================] - 0s 5ms/step - loss: 0.2311 - accuracy: 0.9094 - val_loss: 0.2628 - val_accuracy: 0.9375\n",
            "Epoch 86/100\n",
            "10/10 [==============================] - 0s 5ms/step - loss: 0.2312 - accuracy: 0.9094 - val_loss: 0.2645 - val_accuracy: 0.9375\n",
            "Epoch 87/100\n",
            "10/10 [==============================] - 0s 4ms/step - loss: 0.2308 - accuracy: 0.9094 - val_loss: 0.2631 - val_accuracy: 0.9375\n",
            "Epoch 88/100\n",
            "10/10 [==============================] - 0s 4ms/step - loss: 0.2306 - accuracy: 0.9094 - val_loss: 0.2613 - val_accuracy: 0.9375\n",
            "Epoch 89/100\n",
            "10/10 [==============================] - 0s 5ms/step - loss: 0.2305 - accuracy: 0.9062 - val_loss: 0.2602 - val_accuracy: 0.9375\n",
            "Epoch 90/100\n",
            "10/10 [==============================] - 0s 4ms/step - loss: 0.2305 - accuracy: 0.9094 - val_loss: 0.2599 - val_accuracy: 0.9375\n",
            "Epoch 91/100\n",
            "10/10 [==============================] - 0s 5ms/step - loss: 0.2303 - accuracy: 0.9094 - val_loss: 0.2604 - val_accuracy: 0.9375\n",
            "Epoch 92/100\n",
            "10/10 [==============================] - 0s 4ms/step - loss: 0.2307 - accuracy: 0.9094 - val_loss: 0.2583 - val_accuracy: 0.9375\n",
            "Epoch 93/100\n",
            "10/10 [==============================] - 0s 4ms/step - loss: 0.2296 - accuracy: 0.9062 - val_loss: 0.2602 - val_accuracy: 0.9375\n",
            "Epoch 94/100\n",
            "10/10 [==============================] - 0s 4ms/step - loss: 0.2296 - accuracy: 0.9062 - val_loss: 0.2605 - val_accuracy: 0.9375\n",
            "Epoch 95/100\n",
            "10/10 [==============================] - 0s 4ms/step - loss: 0.2296 - accuracy: 0.9062 - val_loss: 0.2592 - val_accuracy: 0.9375\n",
            "Epoch 96/100\n",
            "10/10 [==============================] - 0s 4ms/step - loss: 0.2293 - accuracy: 0.9062 - val_loss: 0.2608 - val_accuracy: 0.9375\n",
            "Epoch 97/100\n",
            "10/10 [==============================] - 0s 4ms/step - loss: 0.2292 - accuracy: 0.9125 - val_loss: 0.2626 - val_accuracy: 0.9375\n",
            "Epoch 98/100\n",
            "10/10 [==============================] - 0s 4ms/step - loss: 0.2292 - accuracy: 0.9094 - val_loss: 0.2627 - val_accuracy: 0.9375\n",
            "Epoch 99/100\n",
            "10/10 [==============================] - 0s 6ms/step - loss: 0.2288 - accuracy: 0.9125 - val_loss: 0.2619 - val_accuracy: 0.9375\n",
            "Epoch 100/100\n",
            "10/10 [==============================] - 0s 5ms/step - loss: 0.2286 - accuracy: 0.9094 - val_loss: 0.2604 - val_accuracy: 0.9375\n"
          ]
        }
      ]
    },
    {
      "cell_type": "code",
      "source": [
        "plt.plot(history1.history[\"val_accuracy\"])\n",
        "#we can se the difference between the unscaled data accuracy and scaled data accuracy\n"
      ],
      "metadata": {
        "colab": {
          "base_uri": "https://localhost:8080/",
          "height": 282
        },
        "id": "jPHPaDIFvZqC",
        "outputId": "e1966b18-f043-42da-ab59-907561d47c75"
      },
      "execution_count": 30,
      "outputs": [
        {
          "output_type": "execute_result",
          "data": {
            "text/plain": [
              "[<matplotlib.lines.Line2D at 0x7fe94da1c250>]"
            ]
          },
          "metadata": {},
          "execution_count": 30
        },
        {
          "output_type": "display_data",
          "data": {
            "text/plain": [
              "<Figure size 432x288 with 1 Axes>"
            ],
            "image/png": "[encoded data removed]"
          },
          "metadata": {
            "needs_background": "light"
          }
        }
      ]
    },
    {
      "cell_type": "code",
      "source": [],
      "metadata": {
        "id": "kNF2SmO5vZrd"
      },
      "execution_count": null,
      "outputs": []
    },
    {
      "cell_type": "markdown",
      "source": [
        "# New Section"
      ],
      "metadata": {
        "id": "Bx0iOY87qe9b"
      }
    }
  ]
}